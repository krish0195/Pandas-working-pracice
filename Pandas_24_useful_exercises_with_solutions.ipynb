{
  "nbformat": 4,
  "nbformat_minor": 0,
  "metadata": {
    "colab": {
      "provenance": [],
      "authorship_tag": "ABX9TyMsGz1X8GjW8/KqkQa1noYL",
      "include_colab_link": true
    },
    "kernelspec": {
      "name": "python3",
      "display_name": "Python 3"
    },
    "language_info": {
      "name": "python"
    }
  },
  "cells": [
    {
      "cell_type": "markdown",
      "metadata": {
        "id": "view-in-github",
        "colab_type": "text"
      },
      "source": [
        "<a href=\"https://colab.research.google.com/github/krish0195/Pandas-working-pracice/blob/main/Pandas_24_useful_exercises_with_solutions.ipynb\" target=\"_parent\"><img src=\"https://colab.research.google.com/assets/colab-badge.svg\" alt=\"Open In Colab\"/></a>"
      ]
    },
    {
      "cell_type": "code",
      "execution_count": 1,
      "metadata": {
        "id": "jcYcOUWbauit"
      },
      "outputs": [],
      "source": [
        "#https://www.kaggle.com/code/icarofreire/pandas-24-useful-exercises-with-solutions"
      ]
    },
    {
      "cell_type": "code",
      "source": [
        "#1)1. How to create a series from a list, numpy array and dict?\n",
        "import pandas as pd\n",
        "import numpy as np\n",
        "a_list=list(\"abcde\")\n",
        "a_array=np.arange(1,10)\n",
        "a_dict={\"a\":0,\"b\":2,\"c\":3,\"d\":4,\"e\":5}\n",
        "\n",
        "ser_a_list=pd.Series(a_list)\n",
        "ser_a_array=pd.Series(a_array)\n",
        "ser_a_dict=pd.Series(a_dict)\n",
        "\n",
        "print(ser_a_list)\n",
        "print(ser_a_array)\n",
        "print(ser_a_dict)\n",
        "a_array"
      ],
      "metadata": {
        "colab": {
          "base_uri": "https://localhost:8080/"
        },
        "id": "l3dg1WL_azW2",
        "outputId": "8ee28dd3-07ff-4f04-e6fc-27e0d3239301"
      },
      "execution_count": 13,
      "outputs": [
        {
          "output_type": "stream",
          "name": "stdout",
          "text": [
            "0    a\n",
            "1    b\n",
            "2    c\n",
            "3    d\n",
            "4    e\n",
            "dtype: object\n",
            "0    1\n",
            "1    2\n",
            "2    3\n",
            "3    4\n",
            "4    5\n",
            "5    6\n",
            "6    7\n",
            "7    8\n",
            "8    9\n",
            "dtype: int64\n",
            "a    0\n",
            "b    2\n",
            "c    3\n",
            "d    4\n",
            "e    5\n",
            "dtype: int64\n"
          ]
        },
        {
          "output_type": "execute_result",
          "data": {
            "text/plain": [
              "array([1, 2, 3, 4, 5, 6, 7, 8, 9])"
            ]
          },
          "metadata": {},
          "execution_count": 13
        }
      ]
    },
    {
      "cell_type": "code",
      "source": [
        "#2)How to combine many series to form a dataframe?\n",
        "a_list =pd.Series(list(\"abcedfghijklmnopqrstuvwxyz\"))\n",
        "ser2 =pd.Series(np.arange(0,26))\n",
        "\n",
        "df=pd.DataFrame(a_list,ser2).reset_index()\n",
        "df=pd.DataFrame({\"col1\":a_list,\"a_list\":ser2})\n",
        "df=pd.concat([a_list,a_list],axis=1)"
      ],
      "metadata": {
        "id": "bQUG4Dp4bhaO"
      },
      "execution_count": 25,
      "outputs": []
    },
    {
      "cell_type": "code",
      "source": [
        "#3How to get the items of series A not present in series B?\n",
        "ser1 = pd.Series([1, 2, 3, 4, 5])\n",
        "ser2 = pd.Series([4, 5, 6, 7, 8])\n",
        "ser1[~ser1.isin(ser2)]"
      ],
      "metadata": {
        "colab": {
          "base_uri": "https://localhost:8080/"
        },
        "id": "aYKrYxGdbitj",
        "outputId": "d640a5c2-bff3-4ac1-a440-bcf067e660a7"
      },
      "execution_count": 32,
      "outputs": [
        {
          "output_type": "execute_result",
          "data": {
            "text/plain": [
              "0    1\n",
              "1    2\n",
              "2    3\n",
              "dtype: int64"
            ]
          },
          "metadata": {},
          "execution_count": 32
        }
      ]
    },
    {
      "cell_type": "code",
      "source": [
        "#4. How to get the items not common to both series A and series B?\n",
        "# input\n",
        "ser1 = pd.Series([1, 2, 3, 4, 5])\n",
        "ser2 = pd.Series([4, 5, 6, 7, 8])\n",
        "\n",
        "one=ser1[~ser1.isin(ser2)]\n",
        "\n",
        "two=ser2[~ser2.isin(ser1)]\n",
        "pd.concat([one,two],ignore_index=True)"
      ],
      "metadata": {
        "colab": {
          "base_uri": "https://localhost:8080/"
        },
        "id": "juTQJjXNi1MQ",
        "outputId": "692cbbc5-693d-4ea5-d53c-29caa44c8eb0"
      },
      "execution_count": 47,
      "outputs": [
        {
          "output_type": "execute_result",
          "data": {
            "text/plain": [
              "0    1\n",
              "1    2\n",
              "2    3\n",
              "3    6\n",
              "4    7\n",
              "5    8\n",
              "dtype: int64"
            ]
          },
          "metadata": {},
          "execution_count": 47
        }
      ]
    },
    {
      "cell_type": "code",
      "source": [],
      "metadata": {
        "id": "Iv9feGk1kzzP"
      },
      "execution_count": null,
      "outputs": []
    }
  ]
}